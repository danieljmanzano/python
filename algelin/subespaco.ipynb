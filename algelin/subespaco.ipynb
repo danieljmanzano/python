{
 "cells": [
  {
   "cell_type": "markdown",
   "metadata": {
    "id": "6tqurAXg9AGv"
   },
   "source": [
    "\n",
    "\n",
    "\n",
    "\n",
    "#### Exercício - Subespaço Gerado\n",
    "\n",
    "Seja $W$ o subespaço de $M_{3\\times2}(\\mathbb{R})$ gerado pelas matrizes\n",
    "\n",
    "$$A_1 = \\begin{bmatrix} 0 & 0 \\\\ 1 & 1 \\\\ 0 & 0 \\end{bmatrix} , \\;\n",
    "A_2 = \\begin{bmatrix} 0 & 1 \\\\ 0 & -1 \\\\ 1 & 0 \\end{bmatrix} \\; \\text{e} \\;\n",
    "A_3 = \\begin{bmatrix} 0 & 1 \\\\ 0 & 0 \\\\ 0 & 0 \\end{bmatrix} .$$\n",
    "\n",
    "Implemente um código para verificar se a matriz $$A = \\begin{bmatrix} 0 & 2 \\\\ 3 & 4 \\\\ 5 & 0 \\end{bmatrix}$$ pertence ao subespaço $W$."
   ]
  },
  {
   "cell_type": "code",
   "execution_count": 1,
   "metadata": {
    "id": "cvmyH0YJZOpk"
   },
   "outputs": [
    {
     "name": "stdout",
     "output_type": "stream",
     "text": [
      "não pertence ao subespaço\n"
     ]
    }
   ],
   "source": [
    "import numpy as np \n",
    "\n",
    "A1 = np.array([[0,0], [1,1], [0,0]])\n",
    "A2 = np.array([[0, 1], [0,-1], [1,0]])\n",
    "A3 = np.array([[1, 0], [0, 0], [0,0]])\n",
    "A = np.array([[0, 2], [3, 4], [5,0]]) \n",
    "\n",
    "# M é uma matriz cujas colunas são os vetores A1, A2 e A3. v é o vetor que queremos expressar como combinação linear desses vetores\n",
    "M = np.array([A1.flatten(), A2.flatten(), A3.flatten()]).T # \".T\" transpõe a matriz para deixar da forma como citado no comentário anterior \n",
    "v = A.flatten()                                            # (sem ele, os vetores estariam representados nas linhas)\n",
    "\n",
    "\n",
    "# 'M' é uma matriz de coeficientes e 'v' é um vetor de termos independentes\n",
    "# 'rcond' é um \"parâmetro técnico de estabilidade numérica\" (não precisa definir)\n",
    "# queremos os escalares 'x' que resolvam 'M @ x = v'\n",
    "escalares = np.linalg.lstsq(M, v, rcond=None)[0]\n",
    "# lstsq retorna uma tupla de 4 elementos. o primeiro é o que nos interessa aqui (o resultado do 'x' da equação)\n",
    "\n",
    "# cria uma nova matriz que deve conter os mesmos valores de A\n",
    "# caso não, o resultado não foi exato (não há solução para o sistema, lstsq encontrou aproximações)\n",
    "A_estrela = escalares[0] * A1 + escalares[1] * A2 + escalares[2] * A3\n",
    "\n",
    "# np.allclose verifica se de A e A_estrela são próximos dentro de uma tolerância (no nosso caso, verifica corretamente se são iguais)\n",
    "if np.allclose(A, A_estrela):  \n",
    "    print(\"pertence ao subespaço\")\n",
    "else:\n",
    "    print(\"não pertence ao subespaço\")\n",
    "\n"
   ]
  }
 ],
 "metadata": {
  "colab": {
   "provenance": []
  },
  "kernelspec": {
   "display_name": ".venv",
   "language": "python",
   "name": "python3"
  },
  "language_info": {
   "codemirror_mode": {
    "name": "ipython",
    "version": 3
   },
   "file_extension": ".py",
   "mimetype": "text/x-python",
   "name": "python",
   "nbconvert_exporter": "python",
   "pygments_lexer": "ipython3",
   "version": "3.11.2"
  }
 },
 "nbformat": 4,
 "nbformat_minor": 0
}
