{
 "cells": [
  {
   "cell_type": "markdown",
   "metadata": {
    "id": "mGsa45M5zkAV"
   },
   "source": [
    "**Exercício 01**\n",
    "\n",
    "Construa o operador linear diagonalizável $T:\\mathbb{R}^3 \\to \\mathbb{R}^3$ que tenha $2$ e $9$ como autovalores de modo que os autoespaços sejam $V(2) = [(1,2,0),(0,6,1)]$ e $V(9) = [(1,1,1)]$."
   ]
  },
  {
   "cell_type": "code",
   "execution_count": null,
   "metadata": {
    "id": "hIdWTV5Lzs-O"
   },
   "outputs": [
    {
     "name": "stdout",
     "output_type": "stream",
     "text": [
      "--- matriz P (autovetores nas colunas):\n",
      "[[1 0 1]\n",
      " [2 6 1]\n",
      " [0 1 1]]\n",
      "\n",
      "--- matriz diagonal D (autovalores):\n",
      "[[2 0 0]\n",
      " [0 2 0]\n",
      " [0 0 9]]\n",
      "\n",
      "--- matriz M = P * D:\n",
      "[[ 2  0  9]\n",
      " [ 4 12  9]\n",
      " [ 0  2  9]]\n",
      "\n",
      "--- matriz A do Operador T (calculada via sistemas lineares):\n",
      "[[ 4. -1.  6.]\n",
      " [ 2.  1.  6.]\n",
      " [ 2. -1.  8.]]\n",
      "\n",
      "--- Verificando a solução ---\n",
      "As condições A*v = lambda*v foram satisfeitas? True\n"
     ]
    }
   ],
   "source": [
    "import numpy as np\n",
    "\n",
    "# autovetores\n",
    "v1 = np.array([1, 2, 0])\n",
    "v2 = np.array([0, 6, 1]) # v1 e v2 pertencem a V(2)\n",
    "v3 = np.array([1, 1, 1]) # v3 pertence a V(9)\n",
    "\n",
    "# autovalores\n",
    "lambda1 = 2\n",
    "lambda2 = 9\n",
    "\n",
    "# matriz P com autovetores nas colunas\n",
    "P = np.array([v1, v2, v3]).T\n",
    "\n",
    "print(\"--- matriz P (autovetores nas colunas):\")\n",
    "print(P)\n",
    "\n",
    "# matriz diagonal D com autovalores na diagonal\n",
    "D = np.diag([lambda1, lambda1, lambda2]) # lambda1=2, lambda1=2, lambda2=9\n",
    "\n",
    "print(\"\\n--- matriz diagonal D (autovalores):\")\n",
    "print(D)\n",
    "\n",
    "# calcula matriz M = P * D\n",
    "M = P @ D\n",
    "\n",
    "print(\"\\n--- matriz M = P * D:\")\n",
    "print(M)\n",
    "\n",
    "# resolver a equação P^T * A^T = M^T para as linhas de A\n",
    "PT = P.T\n",
    "MT = M.T\n",
    "\n",
    "# resolve um sistema para cada coluna de A^T (que são as linhas de A)\n",
    "linhas_de_A = []\n",
    "for i in range(MT.shape[1]):\n",
    "    # pega a i-ésima coluna de M^T como o vetor de resultado\n",
    "    vetor_res = MT[:, i]\n",
    "    \n",
    "    # resolve P^T * x = vetor_res, onde x será a i-ésima linha de A\n",
    "    linha = np.linalg.solve(PT, vetor_res)\n",
    "    linhas_de_A.append(linha)\n",
    "\n",
    "# monta a matriz A a partir dos valores calculados\n",
    "A = np.array(linhas_de_A)\n",
    "\n",
    "print(\"\\n--- matriz A do Operador T (calculada via sistemas lineares):\")\n",
    "print(A)\n",
    "\n",
    "# verificação\n",
    "print(\"\\n--- verificando a solução ---\")\n",
    "check1 = np.allclose(A @ v1, lambda1 * v1)\n",
    "check2 = np.allclose(A @ v2, lambda1 * v2)\n",
    "check3 = np.allclose(A @ v3, lambda2 * v3)\n",
    "print(f\"as condições A*v = lambda*v foram satisfeitas? {check1 and check2 and check3}\")\n"
   ]
  },
  {
   "cell_type": "markdown",
   "metadata": {
    "id": "xVoknYO6ztS9"
   },
   "source": [
    "**Exercício 02**\n",
    "\n",
    "Construa uma transformação linear que mapeia o vetor $\\mathbf{v}=[1,1,1,1,1]\\in\\mathbb{R}^5$ nele mesmo, ou seja, a transformação deve satisfazer $\\mathbf{A}\\mathbf{v}=\\mathbf{v}$."
   ]
  },
  {
   "cell_type": "code",
   "execution_count": 2,
   "metadata": {
    "id": "mVRq6DPTzzGV"
   },
   "outputs": [
    {
     "name": "stdout",
     "output_type": "stream",
     "text": [
      "matriz A1:\n",
      " [[1. 0. 0. 0. 0.]\n",
      " [0. 1. 0. 0. 0.]\n",
      " [0. 0. 1. 0. 0.]\n",
      " [0. 0. 0. 1. 0.]\n",
      " [0. 0. 0. 0. 1.]]\n",
      "\n",
      "resultado de A1 * v: [1. 1. 1. 1. 1.]\n",
      "a condição A*v = v é satisfeita? True\n"
     ]
    }
   ],
   "source": [
    "# vetor v\n",
    "v = np.ones(5) \n",
    "\n",
    "# constrói a matriz identidade A \n",
    "A1 = np.eye(5)\n",
    "print(\"matriz A1:\\n\", A1)\n",
    "\n",
    "# verificacão\n",
    "resultado = A1 @ v\n",
    "print(\"\\nresultado de A1 * v:\", resultado)\n",
    "print(\"a condição A*v = v é satisfeita?\", np.allclose(resultado, v))"
   ]
  }
 ],
 "metadata": {
  "colab": {
   "provenance": []
  },
  "kernelspec": {
   "display_name": ".venv",
   "language": "python",
   "name": "python3"
  },
  "language_info": {
   "codemirror_mode": {
    "name": "ipython",
    "version": 3
   },
   "file_extension": ".py",
   "mimetype": "text/x-python",
   "name": "python",
   "nbconvert_exporter": "python",
   "pygments_lexer": "ipython3",
   "version": "3.11.2"
  }
 },
 "nbformat": 4,
 "nbformat_minor": 0
}
