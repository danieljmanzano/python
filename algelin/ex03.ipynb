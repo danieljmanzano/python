{
 "cells": [
  {
   "cell_type": "markdown",
   "metadata": {
    "id": "Wyu-TxCv6FmC"
   },
   "source": [
    "### Exercício 01 - Subespaço\n",
    "Considere os subespaços de $\\mathbb{R}^3$ dados por\n",
    "$$\n",
    "U = \\{(x,y,z) \\in \\mathbb{R}^3; x = 0 \\} \\quad \\text{e}\\quad\n",
    "V = \\{(x,y,z) \\in \\mathbb{R}^3; y = 0 \\}.\n",
    "$$\n",
    "Observe que $\\mathbb{R}^3 = U + V$, porém a soma não é direta.\n",
    "\n",
    "Implemente uma visualização adequada para $U$, $V$ e  $U \\cap V$."
   ]
  },
  {
   "cell_type": "code",
   "execution_count": null,
   "metadata": {
    "id": "9zydgp666Nwg"
   },
   "outputs": [],
   "source": [
    "import numpy as np\n",
    "import matplotlib.pyplot as plt\n",
    "import matplotlib.patches as mpatches\n",
    "from matplotlib.lines import Line2D\n",
    "from mpl_toolkits.mplot3d import Axes3D\n",
    "\n",
    "\"\"\"\n",
    "como os subespaços são dados um por {y,z E R³, x=0} e outro por {x,z E R³, y=0}, \n",
    "o resultado é dado pela representação dos planos yz e xz no espaço tridimensional R³\n",
    "e a intersecção é dada pela reta z\n",
    "\"\"\"\n",
    "\n",
    "# preparação para o gráfico\n",
    "fig = plt.figure(figsize=(10, 8))\n",
    "ax = fig.add_subplot(111, projection='3d')\n",
    "\n",
    "# intervalo para os planos\n",
    "plot_range = np.arange(-5, 6, 1)\n",
    "\n",
    "# plotando o plano yz\n",
    "Y_yz, Z_yz = np.meshgrid(plot_range, plot_range) # cria uma grade para y e z\n",
    "X_yz = np.zeros_like(Y_yz) # cria uma grade correspondente para x, onde todos os valores são 0\n",
    "ax.plot_surface(X_yz, Y_yz, Z_yz, alpha=0.5, color='cyan') # plota a superfície em si\n",
    "\n",
    "# plotando o plano xz (mesma lógica de yz)\n",
    "X_xz, Z_xz = np.meshgrid(plot_range, plot_range)\n",
    "Y_xz = np.zeros_like(X_xz)\n",
    "ax.plot_surface(X_xz, Y_xz, Z_xz, alpha=0.5, color='orange')\n",
    "\n",
    "# plotando a reta z (intersecção dos subespaços)\n",
    "z_line = np.array([-5, 5])\n",
    "ax.plot(np.zeros_like(z_line), np.zeros_like(z_line), z_line, color='black', linewidth=5)\n",
    "\n",
    "# configurações do gráfico\n",
    "ax.set_xlabel('Eixo X', fontsize=12)\n",
    "ax.set_ylabel('Eixo Y', fontsize=12)\n",
    "ax.set_zlabel('Eixo Z', fontsize=12)\n",
    "ax.set_title('Representação dos Planos YZ e XZ em R³', fontsize=16)\n",
    "\n",
    "# ajusta os limites dos eixos\n",
    "ax.set_xlim([-5, 5])\n",
    "ax.set_ylim([-5, 5])\n",
    "ax.set_zlim([-5, 5])\n",
    "\n",
    "# cria uma legenda para os planos\n",
    "yz_plane_proxy = mpatches.Patch(color='cyan', label='Plano YZ (x=0)')\n",
    "xz_plane_proxy = mpatches.Patch(color='orange', label='Plano XZ (y=0)')\n",
    "intersection_proxy = Line2D([0], [0], color='black', linewidth=3, label='Interseção (Eixo Z)')\n",
    "ax.legend(handles=[yz_plane_proxy, xz_plane_proxy, intersection_proxy], loc='upper left')\n",
    "\n",
    "# salva a imagem\n",
    "plt.savefig('ex03_1.png', dpi=300)\n",
    "\n",
    "# não mostra o plot como output. como deixei ele na pasta, seria redundante ter ele aqui denovo\n",
    "plt.close()"
   ]
  },
  {
   "cell_type": "markdown",
   "metadata": {
    "id": "SDf8aPmy7aY2"
   },
   "source": [
    "#### Exercício 02 - Transformação Linear\n",
    "Seja a transformação linear $T:\\mathbb{R}^2 \\to \\mathbb{R}^2$ associada a matriz\n",
    "$$ A =\n",
    "\\begin{bmatrix}\n",
    "2 & 1 \\\\\n",
    "1 & 2\n",
    "\\end{bmatrix}\n",
    ".$$\n",
    "Considere a circunferência $C=\\{(x,y)\\in\\mathbb{R}^2;\\; x^2+y^2=1\\}$. Implemente uma visualização da imagem da circunferência $C$ pela transformação linear $T$.\n",
    "- Dica: Discretize um conjunto de pontos de $C$ através da parametrização $(x, y) = (cos(t), sen(t))$ e aplique a transformação nesses pontos."
   ]
  },
  {
   "cell_type": "code",
   "execution_count": null,
   "metadata": {
    "id": "1s7AA6X_7joV"
   },
   "outputs": [],
   "source": [
    "import numpy as np\n",
    "import matplotlib.pyplot as plt\n",
    "\n",
    "t = np.linspace(0, 2 * np.pi, 200) # cria 200 pontos de 0 a 2π. usaremos para definir pontos na circunferência \n",
    "                                   # (parece meio contra-intuitivo, mas computacionalmente é mais lógico)\n",
    "# seguindo a dica, definimos os pontos usando uma circunferência dada pela parametrização\n",
    "x_circle = np.cos(t) # vetor com as coordenadas x dos pontos resultantes dos valores de t\n",
    "y_circle = np.sin(t) # o mesmo para y\n",
    "\n",
    "# definição da matriz de transformação linear\n",
    "A = np.array([\n",
    "    [2, 1],\n",
    "    [1, 2]\n",
    "])\n",
    "\n",
    "# para realizar a multiplicação, criamos uma matriz 2x200\n",
    "circle_points = np.vstack([x_circle, y_circle])\n",
    "# aplica a transformação em todos pontos ao multiplicar a matriz A pelos pontos da circunferência dados na matriz 2x200\n",
    "transformed_points = A @ circle_points\n",
    "\n",
    "\n",
    "# configurações do gráfico\n",
    "plt.figure(figsize=(8, 8))\n",
    "ax = plt.gca()\n",
    "\n",
    "# plota a circunferência original\n",
    "ax.plot(circle_points[0, :], circle_points[1, :], '--', label='Circunferência Original (C)', color='blue')\n",
    "\n",
    "# plota os pontos transformados (a nova elipse)\n",
    "ax.plot(transformed_points[0, :], transformed_points[1, :], label='Imagem de C por T (Elipse)', color='red')\n",
    "\n",
    "# configurações adicionais do gráfico\n",
    "ax.set_title('Transformação Linear de uma Circunferência', fontsize=16)\n",
    "ax.set_xlabel('Eixo X')\n",
    "ax.set_ylabel('Eixo Y')\n",
    "ax.legend()\n",
    "ax.grid(True)\n",
    "\n",
    "# adiciona os eixos x e y para referência\n",
    "ax.axhline(0, color='black', linewidth=0.5)\n",
    "ax.axvline(0, color='black', linewidth=0.5)\n",
    "\n",
    "plt.savefig('ex03_2.png', dpi=300)\n",
    "plt.close()"
   ]
  }
 ],
 "metadata": {
  "colab": {
   "provenance": []
  },
  "kernelspec": {
   "display_name": ".venv",
   "language": "python",
   "name": "python3"
  },
  "language_info": {
   "codemirror_mode": {
    "name": "ipython",
    "version": 3
   },
   "file_extension": ".py",
   "mimetype": "text/x-python",
   "name": "python",
   "nbconvert_exporter": "python",
   "pygments_lexer": "ipython3",
   "version": "3.11.2"
  }
 },
 "nbformat": 4,
 "nbformat_minor": 0
}
