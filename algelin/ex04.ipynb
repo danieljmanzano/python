{
 "cells": [
  {
   "cell_type": "markdown",
   "metadata": {
    "id": "BRGRh7hL1vzP"
   },
   "source": [
    "####**Exercício 01**\n",
    "Seja $T:\\mathbb{R}^2 \\to \\mathbb{R}^2$ a transformação linear tal que $T(1,0) = (cos\\;\\theta,\\;sen\\;\\theta)$ e $T(0,1) = (-sen\\;\\theta,\\;cos\\;\\theta)$, com $\\theta \\in \\mathbb{R}$.\n",
    "\n",
    "- Determine a transformação $T$ e sua matriz na base canônica.\n",
    "- Implemente uma função que recebe um parâmetro $\\theta$ e retorna a matriz da transformação $T$.\n",
    "- Aplique essa transformação no triângulo de vértices $(-1,1)$, $(1,1)$ e $(0,1)$ com $\\theta=\\pi / 4$ e visualize o resultado. O que você pode observar em relação a transformação $T$ ?"
   ]
  },
  {
   "cell_type": "code",
   "execution_count": 27,
   "metadata": {
    "id": "mAOx4IIf1zuA"
   },
   "outputs": [
    {
     "name": "stdout",
     "output_type": "stream",
     "text": [
      "---determinando a transformação T:\n",
      "T(x,y) = x.T(1,0) + y.T(0,1)\n",
      "= (xcosθ - ysenθ, xsenθ + ycosθ)\n",
      "\n",
      "---determinando a matriz canônica de T:\n",
      "[T] = [T(1,0) T(0,1)]\n",
      "= [[cosθ -senθ],\n",
      "   [senθ  cosθ]]\n",
      "\n",
      "---matriz de transformação T para θ = π/4:\n",
      "[[ 0.70710678 -0.70710678]\n",
      " [ 0.70710678  0.70710678]]\n",
      "\n",
      "---vértices transformados:\n",
      "(-1.414, 0.000), (0.000, 1.414), (-0.707, 0.707)\n"
     ]
    }
   ],
   "source": [
    "import numpy as np\n",
    "import matplotlib.pyplot as plt\n",
    "\n",
    "def determina_transformacao_T(): # imprime a definição da transformação T\n",
    "    print(\"---determinando a transformação T:\\nT(x,y) = x.T(1,0) + y.T(0,1)\\n= (xcosθ - ysenθ, xsenθ + ycosθ)\\n\")\n",
    "\n",
    "def determina_matriz_can(): # imprime a matriz canônica de T\n",
    "    print(\"---determinando a matriz canônica de T:\\n[T] = [T(1,0) T(0,1)]\\n= [[cosθ -senθ],\\n   [senθ  cosθ]]\\n\")\n",
    "\n",
    "def T(x, y, theta): # aplica a transformação T a um ponto (x,y) dado um theta\n",
    "    c, s = np.cos(theta), np.sin(theta)\n",
    "    return (x * c - y * s, x * s + y * c)\n",
    "\n",
    "def matriz_transformacao(theta): # retorna a matriz de transformação T dado um theta\n",
    "    c, s = np.cos(theta), np.sin(theta)\n",
    "    return np.array([[c, -s],  # [T] = [cosθ -senθ]\n",
    "                     [s,  c]]) #       [senθ  cosθ]\n",
    "\n",
    "def visualizar_transformacao(verts_orig, verts_trans): # desenha os dois objetos (original e transformado) em um gráfico\n",
    "    # prepara as listas de coordenadas X e Y do objeto original\n",
    "    orig_x = [p[0] for p in verts_orig]\n",
    "    orig_y = [p[1] for p in verts_orig]\n",
    "    orig_x.append(orig_x[0])\n",
    "    orig_y.append(orig_y[0])\n",
    "\n",
    "    # prepara as listas de coordenadas X e Y do objeto transformado\n",
    "    trans_x = [p[0] for p in verts_trans]\n",
    "    trans_y = [p[1] for p in verts_trans]\n",
    "    trans_x.append(trans_x[0]) \n",
    "    trans_y.append(trans_y[0])\n",
    "\n",
    "    # desenha os dois objetos\n",
    "    plt.plot(orig_x, orig_y, 'b-o', label='Original')      # 'b-o' = azul, com linha e marcadores de círculo\n",
    "    plt.plot(trans_x, trans_y, 'r-o', label='Transformado') # 'r-o' = vermelho, com linha e marcadores\n",
    "\n",
    "    plt.grid(True) # adiciona uma grade\n",
    "    plt.gca().set_aspect('equal') # garante que a rotação não fique distorcida\n",
    "    plt.legend() # mostra as legendas \"Original\" e \"Transformado\"\n",
    "    \n",
    "    plt.savefig(\"ex04.png\")\n",
    "    plt.close()\n",
    "\n",
    "\n",
    "determina_transformacao_T()\n",
    "determina_matriz_can()\n",
    "\n",
    "matriz_exemplo = matriz_transformacao(np.pi/4)\n",
    "print(f\"---matriz de transformação T para θ = π/4:\\n{matriz_exemplo}\\n\")\n",
    "\n",
    "vert1 = T(-1,1, np.pi/4)\n",
    "vert2 = T(1,1, np.pi/4)\n",
    "vert3 = T(0,1, np.pi/4)\n",
    "print(f\"---vértices transformados:\\n({vert1[0]:.3f}, {vert1[1]:.3f}), ({vert2[0]:.3f}, {vert2[1]:.3f}), ({vert3[0]:.3f}, {vert3[1]:.3f})\")\n",
    "# valores em raiz: (-sqrt(2), 0), (0, sqrt(2)), (-sqrt(2)/2, sqrt(2)/2)\n",
    "\n",
    "visualizar_transformacao([(-1,1), (1,1), (0,1)], [vert1, vert2, vert3])"
   ]
  },
  {
   "cell_type": "markdown",
   "metadata": {
    "id": "iGcn4PCb1yvP"
   },
   "source": [
    "####**Exercício 02**\n",
    "Determine uma transformação linear $T:\\mathbb{R}^5 \\to \\mathbb{R}^3$ tal que $Im(T) = [(1,0,0),(0,1,0),(1,1,1)]$ e $Ker(T) = [(1,1,1,1,1),(1,1,1,1,0)]$."
   ]
  },
  {
   "cell_type": "code",
   "execution_count": 36,
   "metadata": {
    "id": "lLMZQJjy17r4"
   },
   "outputs": [
    {
     "name": "stdout",
     "output_type": "stream",
     "text": [
      "1. definimos T(1,0,0,0,0) = (1,0,0), T(0,1,0,0,0) = (0,1,0) e T(0,0,1,0,0) = (1,1,1),\n",
      "uma vez que esses vetores resultantes fazem parte da imagem e os vetores escolhidos do domínio são LI\n",
      "\n",
      "2. também, sabemos que T(1,1,1,1,0) = T(1,1,1,1,1) = (0,0,0)\n",
      "\n",
      "- com as informações de 1 e 2, tentamos definir valor para T(0,0,0,1,0) e T(0,0,0,0,1), os vetores canônicos restantes\n",
      "  T(0,0,0,1,0) = T(1,1,1,1,0) - T(1,0,0,0,0) - T(0,1,0,0,0) - T(0,0,1,0,0) = (0,0,0) - (1,0,0) - (0,1,0) - (1,1,1) = (-2,-2,-1)\n",
      "  T(0,0,0,0,1) = T(1,1,1,1,1) - T(1,1,1,1,0) = (0,0,0) \n",
      "\n",
      "\n",
      "- tendo, então, os valores de T para todos os vetores canônicos de R⁵, podemos definir T\n",
      "  T(a,b,c,d,e) = a*T(1,0,0,0,0) + b*T(0,1,0,0,0) + c*T(0,0,1,0,0) + d*T(0,0,0,1,0) + e*T(0,0,0,0,1)\n",
      "  = a(1,0,0) + b(0,1,0) + c(1,1,1) + d(-2,-2,-1) + e(0,0,0) = (a + c - 2d, b + c - 2d, c - d)\n",
      "\n",
      "\n",
      "- por fim, para verificar T, podemos substituir os valores de Ker(T):\n",
      "  T(1,1,1,1,0) = (1 + 1 - 2, 1 + 1 - 2, 1 - 1) = (0,0,0)\n",
      "  T(1,1,1,1,1) = (1 + 1 - 2, 1 + 1 - 2, 1 - 1) = (0,0,0)\n",
      "\n",
      "\n",
      "dessa forma, uma transformação linear T que satisfaz as condições apresentadas é\n",
      "T:R⁵->R³, T(a,b,c,d,e) = (a + c - 2d, b + c - 2d, c - d)\n"
     ]
    }
   ],
   "source": [
    "print(\"1. definimos T(1,0,0,0,0) = (1,0,0), T(0,1,0,0,0) = (0,1,0) e T(0,0,1,0,0) = (1,1,1),\")\n",
    "print(\"uma vez que esses vetores resultantes fazem parte da imagem e os vetores escolhidos do domínio são LI\\n\")\n",
    "print(\"2. também, sabemos que T(1,1,1,1,0) = T(1,1,1,1,1) = (0,0,0)\")\n",
    "print(\"\\n- com as informações de 1 e 2, tentamos definir valor para T(0,0,0,1,0) e T(0,0,0,0,1), os vetores canônicos restantes\")\n",
    "print(\"  T(0,0,0,1,0) = T(1,1,1,1,0) - T(1,0,0,0,0) - T(0,1,0,0,0) - T(0,0,1,0,0) = (0,0,0) - (1,0,0) - (0,1,0) - (1,1,1) = (-2,-2,-1)\")\n",
    "print(\"  T(0,0,0,0,1) = T(1,1,1,1,1) - T(1,1,1,1,0) = (0,0,0) \\n\")\n",
    "print(\"\\n- tendo, então, os valores de T para todos os vetores canônicos de R⁵, podemos definir T\")\n",
    "print(\"  T(a,b,c,d,e) = a*T(1,0,0,0,0) + b*T(0,1,0,0,0) + c*T(0,0,1,0,0) + d*T(0,0,0,1,0) + e*T(0,0,0,0,1)\")\n",
    "print(\"  = a(1,0,0) + b(0,1,0) + c(1,1,1) + d(-2,-2,-1) + e(0,0,0) = (a + c - 2d, b + c - 2d, c - d)\\n\")\n",
    "print(\"\\n- por fim, para verificar T, podemos substituir os valores de Ker(T):\")\n",
    "print(\"  T(1,1,1,1,0) = (1 + 1 - 2, 1 + 1 - 2, 1 - 1) = (0,0,0)\")\n",
    "print(\"  T(1,1,1,1,1) = (1 + 1 - 2, 1 + 1 - 2, 1 - 1) = (0,0,0)\")\n",
    "print(\"\\n\\ndessa forma, uma transformação linear T que satisfaz as condições apresentadas é\")\n",
    "print(\"T:R⁵->R³, T(a,b,c,d,e) = (a + c - 2d, b + c - 2d, c - d)\")"
   ]
  }
 ],
 "metadata": {
  "colab": {
   "provenance": []
  },
  "kernelspec": {
   "display_name": ".venv",
   "language": "python",
   "name": "python3"
  },
  "language_info": {
   "codemirror_mode": {
    "name": "ipython",
    "version": 3
   },
   "file_extension": ".py",
   "mimetype": "text/x-python",
   "name": "python",
   "nbconvert_exporter": "python",
   "pygments_lexer": "ipython3",
   "version": "3.11.2"
  }
 },
 "nbformat": 4,
 "nbformat_minor": 0
}
