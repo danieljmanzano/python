{
 "cells": [
  {
   "cell_type": "markdown",
   "metadata": {
    "id": "VV0NlPvuzkVF"
   },
   "source": [
    "#Exercício 1\n",
    "\n",
    "Considere, no espaço $\\mathbb{R}^2$, as normas euclidiana $||.||_2$, da soma $||.||_1$ e do máximo $||.||_\\infty$. Determine, geometricamente, para cada uma dessas normas, o conjunto $B=\\{x\\in \\mathbb{R}^2 / ||x||=1\\}$.\n",
    "\n",
    "\n"
   ]
  },
  {
   "cell_type": "markdown",
   "metadata": {
    "id": "GoEtW7_Rz8Xh"
   },
   "source": [
    "###**Exemplos de normas do $\\mathbb{R}^n$**\n",
    "\n",
    "- $$\\|\\mathbf{x}\\|_2 = \\bigg( \\sum_{i=1}^n |x_i|^2 \\bigg)^{1/2}, \\qquad\n",
    "\\|\\mathbf{x}\\|_\\infty = \\max \\limits _{1 \\leq i \\leq n} | x_{i} |, \\qquad\n",
    "\\|\\mathbf{x}\\|_1 = \\sum _{i=1} ^n | x_{i} |$$\n",
    "\n",
    "- $\\|\\mathbf{x}\\|_p = \\bigg( \\sum_{i=1}^n |x_i|^p \\bigg)^{1/p}, \\; p \\geq 1$\n",
    "\n",
    "- Esfera com centro na origem e raio unitário.\n",
    "$$S = \\{\\mathbf{x} \\in \\mathbb{R}^n; \\; \\|\\mathbf{x}\\|=1\\}$$\n"
   ]
  },
  {
   "cell_type": "code",
   "execution_count": null,
   "metadata": {
    "id": "p5AvL7BT0Sv1"
   },
   "outputs": [],
   "source": [
    "import numpy as np\n",
    "import matplotlib.pyplot as plt\n",
    "\n",
    "# configuração do gráfico\n",
    "plt.figure(figsize=(8, 8))\n",
    "plt.title('Esferas Unitárias em $\\mathbb{R}^2$ sob Diferentes Normas', fontsize=14)\n",
    "plt.axhline(0, color='gray', linestyle='--', linewidth=0.5)\n",
    "plt.axvline(0, color='gray', linestyle='--', linewidth=0.5)\n",
    "plt.xlabel('$x_1$')\n",
    "plt.ylabel('$x_2$')\n",
    "plt.grid(True, linestyle=':', alpha=0.6)\n",
    "plt.gca().set_aspect('equal', adjustable='box') # garante que os eixos tenham a mesma escala\n",
    "plt.xlim(-1.5, 1.5)\n",
    "plt.ylim(-1.5, 1.5)\n",
    "\n",
    "# --- norma euclidiana (||.||_2) ---\n",
    "# a esfera unitária é um círculo: x1² + x2² = 1\n",
    "theta = np.linspace(0, 2*np.pi, 1000)\n",
    "x1_2 = np.cos(theta)\n",
    "x2_2 = np.sin(theta)\n",
    "plt.plot(x1_2, x2_2, label='$\\ell_2$ (Círculo)', color='blue')\n",
    "\n",
    "\n",
    "# --- norma da soma (||.||_1) ---\n",
    "# a esfera unitária é um quadrado rotacionado 45 graus: |x1| + |x2| = 1\n",
    "x1_1 = np.array([1, 0, -1, 0, 1])\n",
    "x2_1 = np.array([0, 1, 0, -1, 0])\n",
    "plt.plot(x1_1, x2_1, label='$\\ell_1$ (Losango/Quadrado)', color='red')\n",
    "\n",
    "\n",
    "# --- norma do máximo (||.||_infinito) ---\n",
    "# a esfera unitária é um quadrado alinhado com os eixos: max(|x1|, |x2|) = 1\n",
    "x1_inf = np.array([1, 1, -1, -1, 1])\n",
    "x2_inf = np.array([1, -1, -1, 1, 1])\n",
    "plt.plot(x1_inf, x2_inf, label='$\\ell_\\infty$ (Quadrado)', color='green')\n",
    "\n",
    "\n",
    "# adiciona legenda\n",
    "plt.legend(loc='upper right', framealpha=0.8)\n",
    "\n",
    "plt.savefig(\"ex06.png\")\n",
    "plt.close()"
   ]
  },
  {
   "cell_type": "markdown",
   "metadata": {
    "id": "DlMrGdXOvzdx"
   },
   "source": [
    "#Exercício 2\n",
    "Considere uma base $B =  \\{\\mathbf{v}_1,\\ldots,\\mathbf{v}_{10}\\}$ do $\\mathbb{R}^{10}$ gerada pelo código abaixo. Implemente um código do processo de ortogonalização de Gram-Schmidt e obtenha uma base ortonormal do $\\mathbb{R}^{10}$ a partir de $B$."
   ]
  },
  {
   "cell_type": "code",
   "execution_count": null,
   "metadata": {
    "colab": {
     "base_uri": "https://localhost:8080/"
    },
    "id": "bgrkoHGx4MnE",
    "outputId": "98940a48-f24d-4058-bd90-a8ecf977613a"
   },
   "outputs": [
    {
     "name": "stdout",
     "output_type": "stream",
     "text": [
      "v1 = [ 4  3  2  0  2  1  2  0  0 -2]\n",
      "v2 = [ 0  0  2 -3  2 -1 -2  3 -2 -2]\n",
      "v3 = [ 1 -1 -1 -3  3  3 -2  0  2  0]\n",
      "v4 = [ 3  1  0  0  2  1 -3  1  2 -2]\n",
      "v5 = [-1  0  1 -1  0 -3 -2  3  2 -2]\n",
      "v6 = [ 1 -1 -3  3  0  4  1 -1 -2  2]\n",
      "v7 = [ 1  2  0 -2  3 -2 -1  2  0  0]\n",
      "v8 = [ 3  1 -2  0  0  0  0 -2  2  2]\n",
      "v9 = [-2 -2  2  0 -3 -3  0  0  2  3]\n",
      "v10 = [-1  0  1  3 -1  0  3 -2  3  4]\n"
     ]
    }
   ],
   "source": [
    "import numpy as np\n",
    "\n",
    "# Garantir reprodutibilidade\n",
    "np.random.seed(42)\n",
    "\n",
    "# Começar com a matriz identidade\n",
    "I = np.identity(10, dtype=int)\n",
    "\n",
    "# Adicionar pequenas perturbações inteiras para evitar vetores ortogonais triviais\n",
    "perturbation = np.random.randint(-3, 4, size=(10, 10))  # valores entre -3 e 3\n",
    "B_int = I + perturbation\n",
    "\n",
    "# Verificar se os vetores são linearmente independentes\n",
    "rank = np.linalg.matrix_rank(B_int)\n",
    "if rank == 10:\n",
    "    # Imprimir vetores\n",
    "    for i in range(10):\n",
    "        print(f\"v{i+1} = {B_int[:, i]}\")\n",
    "else:\n",
    "    print(\"Os vetores não são linearmente independentes. Tente novamente.\")\n",
    "\n",
    "\n"
   ]
  },
  {
   "cell_type": "code",
   "execution_count": null,
   "metadata": {
    "id": "MJWrOtjR7tZP"
   },
   "outputs": [
    {
     "name": "stdout",
     "output_type": "stream",
     "text": [
      "v1 = [ 4  3  2  0  2  1  2  0  0 -2]\n",
      "v2 = [ 0  0  2 -3  2 -1 -2  3 -2 -2]\n",
      "v3 = [ 1 -1 -1 -3  3  3 -2  0  2  0]\n",
      "v4 = [ 3  1  0  0  2  1 -3  1  2 -2]\n",
      "v5 = [-1  0  1 -1  0 -3 -2  3  2 -2]\n",
      "v6 = [ 1 -1 -3  3  0  4  1 -1 -2  2]\n",
      "v7 = [ 1  2  0 -2  3 -2 -1  2  0  0]\n",
      "v8 = [ 3  1 -2  0  0  0  0 -2  2  2]\n",
      "v9 = [-2 -2  2  0 -3 -3  0  0  2  3]\n",
      "v10 = [-1  0  1  3 -1  0  3 -2  3  4]\n",
      "\n",
      "Base Ortonormal Q (arredondado para 1 casa):\n",
      "array([[ 0.6, -0.1,  0.1,  0.3, -0.2, -0. ,  0.1,  0.6,  0.1,  0.2],\n",
      "       [ 0.5, -0.1, -0.2,  0.1,  0.1, -0.2,  0.4, -0.3, -0.2, -0.6],\n",
      "       [ 0.3,  0.3, -0.3, -0.1,  0.1, -0.4, -0.4, -0.2,  0.6, -0. ],\n",
      "       [ 0. , -0.5, -0.4,  0.5, -0.2,  0.3, -0. , -0.4,  0.2,  0.2],\n",
      "       [ 0.3,  0.3,  0.4, -0.1, -0. ,  0.1,  0.4, -0.5,  0.1,  0.5],\n",
      "       [ 0.2, -0.2,  0.5, -0.2, -0.4,  0.3, -0.5, -0.2,  0.1, -0.4],\n",
      "       [ 0.3, -0.4, -0.3, -0.7,  0.3,  0.3, -0. ,  0.1, -0.1,  0.2],\n",
      "       [ 0. ,  0.5, -0.1,  0.2,  0.2,  0.7,  0.1,  0.2,  0.2, -0.3],\n",
      "       [ 0. , -0.3,  0.4,  0.3,  0.8, -0.1, -0.1, -0. ,  0.2, -0. ],\n",
      "       [-0.3, -0.3,  0.1, -0.3, -0.1, -0. ,  0.5,  0.2,  0.6, -0.2]])\n",
      "--------------------------------------------------\n",
      "Matriz de Produto Interno (Q.T @ Q):\n",
      "array([[ 1., -0., -0.,  0., -0., -0.,  0., -0., -0., -0.],\n",
      "       [-0.,  1.,  0., -0., -0., -0.,  0., -0.,  0.,  0.],\n",
      "       [-0.,  0.,  1., -0.,  0., -0., -0.,  0., -0.,  0.],\n",
      "       [ 0., -0., -0.,  1., -0., -0.,  0., -0., -0.,  0.],\n",
      "       [-0., -0.,  0., -0.,  1.,  0.,  0., -0.,  0., -0.],\n",
      "       [-0., -0., -0., -0.,  0.,  1.,  0., -0., -0., -0.],\n",
      "       [ 0.,  0., -0.,  0.,  0.,  0.,  1.,  0., -0.,  0.],\n",
      "       [-0., -0.,  0., -0., -0., -0.,  0.,  1.,  0., -0.],\n",
      "       [-0.,  0., -0., -0.,  0., -0., -0.,  0.,  1., -0.],\n",
      "       [-0.,  0.,  0.,  0., -0., -0.,  0., -0., -0.,  1.]])\n"
     ]
    }
   ],
   "source": [
    "import numpy as np\n",
    "import pprint\n",
    "\n",
    "# execução do código acima para gerar a base\n",
    "np.random.seed(42)\n",
    "I = np.identity(10, dtype=int)\n",
    "perturbation = np.random.randint(-3, 4, size=(10, 10))\n",
    "B_int = I + perturbation\n",
    "rank = np.linalg.matrix_rank(B_int)\n",
    "if rank == 10:\n",
    "    for i in range(10):\n",
    "        print(f\"v{i+1} = {B_int[:, i]}\")\n",
    "else:\n",
    "    print(\"Os vetores não são linearmente independentes\")\n",
    "\n",
    "# função de gram-schmidt\n",
    "def gram_schmidt_ortogonalizacao(A):\n",
    "    # inicializa a matriz para armazenar os vetores ortonormais (e)\n",
    "    # n = número de vetores, m = dimensão do espaço (n=m=10 neste caso)\n",
    "    n = A.shape[1]\n",
    "    Q = np.zeros_like(A, dtype=float)\n",
    "\n",
    "    # u_list armazena os vetores ortogonais (u) para uso nas iterações\n",
    "    u_list = []\n",
    "\n",
    "    for k in range(n):\n",
    "        # o vetor vk é a k-ésima coluna da matriz A\n",
    "        v_k = A[:, k]\n",
    "        # o vetor ortogonal uk é inicialmente igual a vk\n",
    "        u_k = v_k.copy()\n",
    "\n",
    "        # subtrai as projeções de vk em relação aos vetores ortogonais u_j já encontrados\n",
    "        for j in range(k):\n",
    "            # vetor ortogonal anterior\n",
    "            u_j = u_list[j]\n",
    "\n",
    "            # produto interno (numerador do coeficiente de projeção)\n",
    "            dot_product = np.dot(v_k, u_j)\n",
    "\n",
    "            # quadrado da norma (denominador do coeficiente de projeção)\n",
    "            # np.dot(u_j, u_j) é o mesmo que ||u_j||²\n",
    "            norm_squared = np.dot(u_j, u_j)\n",
    "\n",
    "            # coeficiente da projeção: c = <v_k, u_j> / ||u_j||²\n",
    "            c = dot_product / norm_squared\n",
    "\n",
    "            # projeção: proj_uj(vk) = c * uj\n",
    "            projection = c * u_j\n",
    "\n",
    "            # atualiza uk: uk = vk - soma(proj)\n",
    "            u_k -= projection\n",
    "\n",
    "        # armazena o vetor ortogonal (u_k)\n",
    "        u_list.append(u_k)\n",
    "\n",
    "        # normalização: ek = uk / ||uk||\n",
    "        norm_u_k = np.linalg.norm(u_k)\n",
    "\n",
    "        # verifica se o vetor é (quase) nulo, o que indicaria dependência linear\n",
    "        if norm_u_k < 1e-10:\n",
    "            raise ValueError(f\"O vetor {k+1} é linearmente dependente dos anteriores.\")\n",
    "\n",
    "        e_k = u_k / norm_u_k\n",
    "\n",
    "        # armazena o vetor ortonormal (e_k) na matriz Q\n",
    "        Q[:, k] = e_k\n",
    "\n",
    "    return Q\n",
    "\n",
    "# execução\n",
    "B = B_int.astype(float) \n",
    "Q = gram_schmidt_ortogonalizacao(B)\n",
    "print(\"\\nBase Ortonormal Q (arredondado para 1 casa):\")\n",
    "pprint.pprint(Q[:, :10].round(decimals=1))\n",
    "print(\"-\" * 50)\n",
    "\n",
    "# verificação: Q.T @ Q deve ser a Matriz Identidade I\n",
    "I_verificacao = Q.T @ Q\n",
    "print(\"Matriz de Produto Interno (Q.T @ Q):\")\n",
    "\n",
    "# arredondamos os valores para 10 casas decimais para mostrar que são 1 na diagonal e 0 fora\n",
    "pprint.pprint(I_verificacao.round(decimals=10))"
   ]
  }
 ],
 "metadata": {
  "colab": {
   "provenance": []
  },
  "kernelspec": {
   "display_name": ".venv",
   "language": "python",
   "name": "python3"
  },
  "language_info": {
   "codemirror_mode": {
    "name": "ipython",
    "version": 3
   },
   "file_extension": ".py",
   "mimetype": "text/x-python",
   "name": "python",
   "nbconvert_exporter": "python",
   "pygments_lexer": "ipython3",
   "version": "3.11.2"
  }
 },
 "nbformat": 4,
 "nbformat_minor": 0
}
